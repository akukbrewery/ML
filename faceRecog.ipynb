{
  "cells": [
    {
      "cell_type": "code",
      "execution_count": 21,
      "metadata": {
        "id": "NtQAdJYC2D8_"
      },
      "outputs": [],
      "source": [
        "import dlib\n",
        "import os\n",
        "from PIL import Image\n",
        "from skimage import io\n",
        "from pathlib import Path\n",
        "from sklearn.decomposition import PCA\n",
        "\n",
        "BasePath = \"/content/drive/MyDrive/project_1/FaceRecog/DataSets/Askeladd/1.png\""
      ]
    },
    {
      "cell_type": "code",
      "source": [
        "from google.colab import drive\n",
        "drive.mount('/content/drive')"
      ],
      "metadata": {
        "colab": {
          "base_uri": "https://localhost:8080/"
        },
        "id": "xiuAl1oR4MuJ",
        "outputId": "1d71f2e6-2701-456c-e7c9-533cbc13cc9c"
      },
      "execution_count": 22,
      "outputs": [
        {
          "output_type": "stream",
          "name": "stdout",
          "text": [
            "Drive already mounted at /content/drive; to attempt to forcibly remount, call drive.mount(\"/content/drive\", force_remount=True).\n"
          ]
        }
      ]
    },
    {
      "cell_type": "code",
      "execution_count": 23,
      "metadata": {
        "id": "rPfaqEvH2D9A"
      },
      "outputs": [],
      "source": [
        "def detect_faces(image):\n",
        "\n",
        "    # Create a face detector\n",
        "    face_detector = dlib.get_frontal_face_detector()\n",
        "\n",
        "    # Run detector and get bounding boxes of the faces on image.\n",
        "    detected_faces = face_detector(image, 1)\n",
        "    face_frames = [(x.left(), x.top(), x.right(), x.bottom())\n",
        "                   for x in detected_faces]\n",
        "\n",
        "    return face_frames"
      ]
    },
    {
      "cell_type": "code",
      "execution_count": 24,
      "metadata": {
        "id": "nb-CdHew2D9B"
      },
      "outputs": [],
      "source": [
        "def cropFaces(img_path:Path,out_path:Path) -> int :\n",
        "    # Load image\n",
        "    image = io.imread(img_path)\n",
        "\n",
        "    # Detect faces\n",
        "    detected_faces = detect_faces(image)\n",
        "\n",
        "    # Crop faces and plot\n",
        "    for n, face_rect in enumerate(detected_faces):\n",
        "        face = Image.fromarray(image).crop(face_rect).convert(\"L\").resize((32,32)).save(out_path)\n",
        "    return len(detected_faces)"
      ]
    },
    {
      "cell_type": "code",
      "execution_count": 25,
      "metadata": {
        "id": "vaJSu8f72D9C"
      },
      "outputs": [],
      "source": [
        "labels = [i.name for i in Path(BasePath).glob(\"*\")]\n",
        "LabelPath = [i for i in Path(BasePath).glob(\"*\")]\n",
        "for i in  LabelPath:\n",
        "    (i/\"gray\").mkdir(exist_ok=True)"
      ]
    },
    {
      "cell_type": "code",
      "execution_count": 26,
      "metadata": {
        "id": "uBWsIRPn2D9D"
      },
      "outputs": [],
      "source": [
        "for x in LabelPath :\n",
        "    for path in x.glob(\"*.jpg\") :\n",
        "        cropFaces(path,x/\"gray\"/path.name)"
      ]
    },
    {
      "cell_type": "code",
      "source": [
        "import numpy as np\n",
        "import skimage.io\n",
        "from pathlib import Path\n",
        "from sklearn.neighbors import KNeighborsClassifier\n",
        "from sklearn.metrics import accuracy_score,confusion_matrix, ConfusionMatrixDisplay\n",
        "from sklearn.decomposition import PCA\n",
        "from sklearn.model_selection import train_test_split\n",
        "from matplotlib import pyplot as plt"
      ],
      "metadata": {
        "id": "7IGa_R9348_Y"
      },
      "execution_count": 27,
      "outputs": []
    },
    {
      "cell_type": "code",
      "source": [
        "data = []\n",
        "labels = []\n",
        "for i in Path(\"/content/drive/MyDrive/project_1/FaceRecog/DataSets\").glob(\"*/gray/*.*\") :\n",
        "      data.append(skimage.io.imread(i,as_gray=True).flatten())\n",
        "      labels.append(i.parent.parent.name)\n",
        "data = np.array(data)\n",
        "data.shape\n"
      ],
      "metadata": {
        "colab": {
          "base_uri": "https://localhost:8080/"
        },
        "id": "Iw0F8p0i49Hg",
        "outputId": "2d0c1db7-8363-4cf4-ec95-ce41bf16e16b"
      },
      "execution_count": 32,
      "outputs": [
        {
          "output_type": "stream",
          "name": "stdout",
          "text": [
            "/content/drive/MyDrive/project_1/FaceRecog/DataSets/Loid/gray/1.jpg\n",
            "/content/drive/MyDrive/project_1/FaceRecog/DataSets/Loid/gray/0.jpg\n",
            "/content/drive/MyDrive/project_1/FaceRecog/DataSets/Loid/gray/2.jpg\n",
            "/content/drive/MyDrive/project_1/FaceRecog/DataSets/Loid/gray/3.jpg\n",
            "/content/drive/MyDrive/project_1/FaceRecog/DataSets/Loid/gray/5.jpg\n",
            "/content/drive/MyDrive/project_1/FaceRecog/DataSets/Loid/gray/4.jpg\n",
            "/content/drive/MyDrive/project_1/FaceRecog/DataSets/Loid/gray/6.jpg\n",
            "/content/drive/MyDrive/project_1/FaceRecog/DataSets/Loid/gray/7.jpg\n",
            "/content/drive/MyDrive/project_1/FaceRecog/DataSets/Loid/gray/8.jpg\n",
            "/content/drive/MyDrive/project_1/FaceRecog/DataSets/Loid/gray/9.jpg\n",
            "/content/drive/MyDrive/project_1/FaceRecog/DataSets/Loid/gray/10.jpg\n",
            "/content/drive/MyDrive/project_1/FaceRecog/DataSets/Loid/gray/11.jpg\n",
            "/content/drive/MyDrive/project_1/FaceRecog/DataSets/Loid/gray/12.jpg\n",
            "/content/drive/MyDrive/project_1/FaceRecog/DataSets/Loid/gray/14.jpg\n",
            "/content/drive/MyDrive/project_1/FaceRecog/DataSets/Loid/gray/13.jpg\n",
            "/content/drive/MyDrive/project_1/FaceRecog/DataSets/Loid/gray/15.jpg\n",
            "/content/drive/MyDrive/project_1/FaceRecog/DataSets/Loid/gray/16.jpg\n",
            "/content/drive/MyDrive/project_1/FaceRecog/DataSets/Loid/gray/17.jpg\n",
            "/content/drive/MyDrive/project_1/FaceRecog/DataSets/Loid/gray/18.jpg\n",
            "/content/drive/MyDrive/project_1/FaceRecog/DataSets/Loid/gray/.ipynb_checkpoints\n",
            "/content/drive/MyDrive/project_1/FaceRecog/DataSets/iroh/gray/0.jpg\n",
            "/content/drive/MyDrive/project_1/FaceRecog/DataSets/iroh/gray/1.jpg\n",
            "/content/drive/MyDrive/project_1/FaceRecog/DataSets/iroh/gray/2.jpg\n",
            "/content/drive/MyDrive/project_1/FaceRecog/DataSets/iroh/gray/3.jpg\n",
            "/content/drive/MyDrive/project_1/FaceRecog/DataSets/iroh/gray/4.jpg\n",
            "/content/drive/MyDrive/project_1/FaceRecog/DataSets/iroh/gray/5.jpg\n",
            "/content/drive/MyDrive/project_1/FaceRecog/DataSets/iroh/gray/6.jpg\n",
            "/content/drive/MyDrive/project_1/FaceRecog/DataSets/iroh/gray/7.jpg\n",
            "/content/drive/MyDrive/project_1/FaceRecog/DataSets/iroh/gray/8.jpg\n",
            "/content/drive/MyDrive/project_1/FaceRecog/DataSets/iroh/gray/9.jpg\n",
            "/content/drive/MyDrive/project_1/FaceRecog/DataSets/iroh/gray/10.jpg\n",
            "/content/drive/MyDrive/project_1/FaceRecog/DataSets/iroh/gray/11.jpg\n",
            "/content/drive/MyDrive/project_1/FaceRecog/DataSets/iroh/gray/12.jpg\n",
            "/content/drive/MyDrive/project_1/FaceRecog/DataSets/iroh/gray/index.html\n",
            "/content/drive/MyDrive/project_1/FaceRecog/DataSets/.vscode/gray/index.html\n",
            "/content/drive/MyDrive/project_1/FaceRecog/DataSets/zuko/gray/0.jpg\n",
            "/content/drive/MyDrive/project_1/FaceRecog/DataSets/zuko/gray/1.jpg\n",
            "/content/drive/MyDrive/project_1/FaceRecog/DataSets/zuko/gray/2.jpg\n",
            "/content/drive/MyDrive/project_1/FaceRecog/DataSets/zuko/gray/3.jpg\n",
            "/content/drive/MyDrive/project_1/FaceRecog/DataSets/zuko/gray/4.jpg\n",
            "/content/drive/MyDrive/project_1/FaceRecog/DataSets/zuko/gray/5.jpg\n",
            "/content/drive/MyDrive/project_1/FaceRecog/DataSets/zuko/gray/6.jpg\n",
            "/content/drive/MyDrive/project_1/FaceRecog/DataSets/zuko/gray/7.jpg\n",
            "/content/drive/MyDrive/project_1/FaceRecog/DataSets/zuko/gray/8.jpg\n",
            "/content/drive/MyDrive/project_1/FaceRecog/DataSets/zuko/gray/9.jpg\n",
            "/content/drive/MyDrive/project_1/FaceRecog/DataSets/zuko/gray/10.jpg\n",
            "/content/drive/MyDrive/project_1/FaceRecog/DataSets/zuko/gray/11.jpg\n",
            "/content/drive/MyDrive/project_1/FaceRecog/DataSets/zuko/gray/12.jpg\n",
            "/content/drive/MyDrive/project_1/FaceRecog/DataSets/zuko/gray/13.jpg\n",
            "/content/drive/MyDrive/project_1/FaceRecog/DataSets/zuko/gray/14.jpg\n",
            "/content/drive/MyDrive/project_1/FaceRecog/DataSets/zuko/gray/15.jpg\n",
            "/content/drive/MyDrive/project_1/FaceRecog/DataSets/zuko/gray/16.jpg\n",
            "/content/drive/MyDrive/project_1/FaceRecog/DataSets/zuko/gray/index.html\n",
            "/content/drive/MyDrive/project_1/FaceRecog/DataSets/azula/gray/0.jpg\n",
            "/content/drive/MyDrive/project_1/FaceRecog/DataSets/azula/gray/1.jpg\n",
            "/content/drive/MyDrive/project_1/FaceRecog/DataSets/azula/gray/3.jpg\n",
            "/content/drive/MyDrive/project_1/FaceRecog/DataSets/azula/gray/2.jpg\n",
            "/content/drive/MyDrive/project_1/FaceRecog/DataSets/azula/gray/4.jpg\n",
            "/content/drive/MyDrive/project_1/FaceRecog/DataSets/azula/gray/5.jpg\n",
            "/content/drive/MyDrive/project_1/FaceRecog/DataSets/azula/gray/6.jpg\n",
            "/content/drive/MyDrive/project_1/FaceRecog/DataSets/azula/gray/7.jpg\n",
            "/content/drive/MyDrive/project_1/FaceRecog/DataSets/azula/gray/8.jpg\n",
            "/content/drive/MyDrive/project_1/FaceRecog/DataSets/azula/gray/9.jpg\n",
            "/content/drive/MyDrive/project_1/FaceRecog/DataSets/azula/gray/10.jpg\n",
            "/content/drive/MyDrive/project_1/FaceRecog/DataSets/azula/gray/11.jpg\n",
            "/content/drive/MyDrive/project_1/FaceRecog/DataSets/azula/gray/12.jpg\n",
            "/content/drive/MyDrive/project_1/FaceRecog/DataSets/azula/gray/13.jpg\n",
            "/content/drive/MyDrive/project_1/FaceRecog/DataSets/azula/gray/14.jpg\n",
            "/content/drive/MyDrive/project_1/FaceRecog/DataSets/azula/gray/15.jpg\n",
            "/content/drive/MyDrive/project_1/FaceRecog/DataSets/azula/gray/16.jpg\n",
            "/content/drive/MyDrive/project_1/FaceRecog/DataSets/azula/gray/17.jpg\n",
            "/content/drive/MyDrive/project_1/FaceRecog/DataSets/azula/gray/index.html\n",
            "/content/drive/MyDrive/project_1/FaceRecog/DataSets/aang/gray/0.jpg\n",
            "/content/drive/MyDrive/project_1/FaceRecog/DataSets/aang/gray/1.jpg\n",
            "/content/drive/MyDrive/project_1/FaceRecog/DataSets/aang/gray/2.jpg\n",
            "/content/drive/MyDrive/project_1/FaceRecog/DataSets/aang/gray/3.jpg\n",
            "/content/drive/MyDrive/project_1/FaceRecog/DataSets/aang/gray/4.jpg\n",
            "/content/drive/MyDrive/project_1/FaceRecog/DataSets/aang/gray/5.jpg\n",
            "/content/drive/MyDrive/project_1/FaceRecog/DataSets/aang/gray/7.jpg\n",
            "/content/drive/MyDrive/project_1/FaceRecog/DataSets/aang/gray/6.jpg\n",
            "/content/drive/MyDrive/project_1/FaceRecog/DataSets/aang/gray/8.jpg\n",
            "/content/drive/MyDrive/project_1/FaceRecog/DataSets/aang/gray/9.jpg\n",
            "/content/drive/MyDrive/project_1/FaceRecog/DataSets/aang/gray/10.jpg\n",
            "/content/drive/MyDrive/project_1/FaceRecog/DataSets/aang/gray/11.jpg\n",
            "/content/drive/MyDrive/project_1/FaceRecog/DataSets/aang/gray/12.jpg\n",
            "/content/drive/MyDrive/project_1/FaceRecog/DataSets/aang/gray/13.jpg\n",
            "/content/drive/MyDrive/project_1/FaceRecog/DataSets/aang/gray/14.jpg\n",
            "/content/drive/MyDrive/project_1/FaceRecog/DataSets/aang/gray/index.html\n",
            "/content/drive/MyDrive/project_1/FaceRecog/DataSets/Near /gray/0.jpg\n",
            "/content/drive/MyDrive/project_1/FaceRecog/DataSets/Near /gray/1.jpg\n",
            "/content/drive/MyDrive/project_1/FaceRecog/DataSets/Near /gray/2.jpg\n",
            "/content/drive/MyDrive/project_1/FaceRecog/DataSets/Near /gray/3.jpg\n",
            "/content/drive/MyDrive/project_1/FaceRecog/DataSets/Near /gray/4.jpg\n",
            "/content/drive/MyDrive/project_1/FaceRecog/DataSets/Near /gray/5.jpg\n",
            "/content/drive/MyDrive/project_1/FaceRecog/DataSets/Near /gray/6.jpg\n",
            "/content/drive/MyDrive/project_1/FaceRecog/DataSets/Near /gray/7.jpg\n",
            "/content/drive/MyDrive/project_1/FaceRecog/DataSets/Near /gray/8.jpg\n",
            "/content/drive/MyDrive/project_1/FaceRecog/DataSets/Near /gray/9.jpg\n",
            "/content/drive/MyDrive/project_1/FaceRecog/DataSets/Near /gray/10.jpg\n",
            "/content/drive/MyDrive/project_1/FaceRecog/DataSets/Near /gray/11.jpg\n",
            "/content/drive/MyDrive/project_1/FaceRecog/DataSets/Near /gray/12.jpg\n",
            "/content/drive/MyDrive/project_1/FaceRecog/DataSets/Near /gray/index.html\n",
            "/content/drive/MyDrive/project_1/FaceRecog/DataSets/katara/gray/1.jpg\n",
            "/content/drive/MyDrive/project_1/FaceRecog/DataSets/katara/gray/0.jpg\n",
            "/content/drive/MyDrive/project_1/FaceRecog/DataSets/katara/gray/2.jpg\n",
            "/content/drive/MyDrive/project_1/FaceRecog/DataSets/katara/gray/3.jpg\n",
            "/content/drive/MyDrive/project_1/FaceRecog/DataSets/katara/gray/4.jpg\n",
            "/content/drive/MyDrive/project_1/FaceRecog/DataSets/katara/gray/5.jpg\n",
            "/content/drive/MyDrive/project_1/FaceRecog/DataSets/katara/gray/6.jpg\n",
            "/content/drive/MyDrive/project_1/FaceRecog/DataSets/katara/gray/7.jpg\n",
            "/content/drive/MyDrive/project_1/FaceRecog/DataSets/katara/gray/9.jpg\n",
            "/content/drive/MyDrive/project_1/FaceRecog/DataSets/katara/gray/8.jpg\n",
            "/content/drive/MyDrive/project_1/FaceRecog/DataSets/katara/gray/10.jpg\n",
            "/content/drive/MyDrive/project_1/FaceRecog/DataSets/katara/gray/11.jpg\n",
            "/content/drive/MyDrive/project_1/FaceRecog/DataSets/katara/gray/12.jpg\n",
            "/content/drive/MyDrive/project_1/FaceRecog/DataSets/katara/gray/13.jpg\n",
            "/content/drive/MyDrive/project_1/FaceRecog/DataSets/katara/gray/14.jpg\n",
            "/content/drive/MyDrive/project_1/FaceRecog/DataSets/katara/gray/15.jpg\n",
            "/content/drive/MyDrive/project_1/FaceRecog/DataSets/katara/gray/16.jpg\n",
            "/content/drive/MyDrive/project_1/FaceRecog/DataSets/katara/gray/17.jpg\n",
            "/content/drive/MyDrive/project_1/FaceRecog/DataSets/katara/gray/18.jpg\n",
            "/content/drive/MyDrive/project_1/FaceRecog/DataSets/katara/gray/index.html\n",
            "/content/drive/MyDrive/project_1/FaceRecog/DataSets/Ray/gray/0.jpg\n",
            "/content/drive/MyDrive/project_1/FaceRecog/DataSets/Ray/gray/1.jpg\n",
            "/content/drive/MyDrive/project_1/FaceRecog/DataSets/Ray/gray/2.jpg\n",
            "/content/drive/MyDrive/project_1/FaceRecog/DataSets/Ray/gray/3.jpg\n",
            "/content/drive/MyDrive/project_1/FaceRecog/DataSets/Ray/gray/4.jpg\n",
            "/content/drive/MyDrive/project_1/FaceRecog/DataSets/Ray/gray/5.jpg\n",
            "/content/drive/MyDrive/project_1/FaceRecog/DataSets/Ray/gray/6.jpg\n",
            "/content/drive/MyDrive/project_1/FaceRecog/DataSets/Ray/gray/8.jpg\n",
            "/content/drive/MyDrive/project_1/FaceRecog/DataSets/Ray/gray/7.jpg\n",
            "/content/drive/MyDrive/project_1/FaceRecog/DataSets/Ray/gray/9.jpg\n",
            "/content/drive/MyDrive/project_1/FaceRecog/DataSets/Ray/gray/11.jpg\n",
            "/content/drive/MyDrive/project_1/FaceRecog/DataSets/Ray/gray/10.jpg\n",
            "/content/drive/MyDrive/project_1/FaceRecog/DataSets/Ray/gray/12.jpg\n",
            "/content/drive/MyDrive/project_1/FaceRecog/DataSets/Ray/gray/13.jpg\n",
            "/content/drive/MyDrive/project_1/FaceRecog/DataSets/Ray/gray/14.jpg\n",
            "/content/drive/MyDrive/project_1/FaceRecog/DataSets/Ray/gray/15.jpg\n",
            "/content/drive/MyDrive/project_1/FaceRecog/DataSets/Ray/gray/16.jpg\n",
            "/content/drive/MyDrive/project_1/FaceRecog/DataSets/Ray/gray/17.jpg\n",
            "/content/drive/MyDrive/project_1/FaceRecog/DataSets/Ray/gray/18.jpg\n",
            "/content/drive/MyDrive/project_1/FaceRecog/DataSets/Ray/gray/19.jpg\n",
            "/content/drive/MyDrive/project_1/FaceRecog/DataSets/Ray/gray/index.html\n",
            "/content/drive/MyDrive/project_1/FaceRecog/DataSets/L/gray/0.jpg\n",
            "/content/drive/MyDrive/project_1/FaceRecog/DataSets/L/gray/1.jpg\n",
            "/content/drive/MyDrive/project_1/FaceRecog/DataSets/L/gray/2.jpg\n",
            "/content/drive/MyDrive/project_1/FaceRecog/DataSets/L/gray/3.jpg\n",
            "/content/drive/MyDrive/project_1/FaceRecog/DataSets/L/gray/4.jpg\n",
            "/content/drive/MyDrive/project_1/FaceRecog/DataSets/L/gray/5.jpg\n",
            "/content/drive/MyDrive/project_1/FaceRecog/DataSets/L/gray/6.jpg\n",
            "/content/drive/MyDrive/project_1/FaceRecog/DataSets/L/gray/7.jpg\n",
            "/content/drive/MyDrive/project_1/FaceRecog/DataSets/L/gray/8.jpg\n",
            "/content/drive/MyDrive/project_1/FaceRecog/DataSets/L/gray/9.jpg\n",
            "/content/drive/MyDrive/project_1/FaceRecog/DataSets/L/gray/10.jpg\n",
            "/content/drive/MyDrive/project_1/FaceRecog/DataSets/L/gray/12.jpg\n",
            "/content/drive/MyDrive/project_1/FaceRecog/DataSets/L/gray/11.jpg\n",
            "/content/drive/MyDrive/project_1/FaceRecog/DataSets/L/gray/13.jpg\n",
            "/content/drive/MyDrive/project_1/FaceRecog/DataSets/L/gray/14.jpg\n",
            "/content/drive/MyDrive/project_1/FaceRecog/DataSets/L/gray/15.jpg\n",
            "/content/drive/MyDrive/project_1/FaceRecog/DataSets/L/gray/index.html\n",
            "/content/drive/MyDrive/project_1/FaceRecog/DataSets/Okarin/gray/0.jpg\n",
            "/content/drive/MyDrive/project_1/FaceRecog/DataSets/Okarin/gray/1.jpg\n",
            "/content/drive/MyDrive/project_1/FaceRecog/DataSets/Okarin/gray/3.jpg\n",
            "/content/drive/MyDrive/project_1/FaceRecog/DataSets/Okarin/gray/2.jpg\n",
            "/content/drive/MyDrive/project_1/FaceRecog/DataSets/Okarin/gray/5.jpg\n",
            "/content/drive/MyDrive/project_1/FaceRecog/DataSets/Okarin/gray/7.jpg\n",
            "/content/drive/MyDrive/project_1/FaceRecog/DataSets/Okarin/gray/4.jpg\n",
            "/content/drive/MyDrive/project_1/FaceRecog/DataSets/Okarin/gray/8.jpg\n",
            "/content/drive/MyDrive/project_1/FaceRecog/DataSets/Okarin/gray/6.jpg\n",
            "/content/drive/MyDrive/project_1/FaceRecog/DataSets/Okarin/gray/9.jpg\n",
            "/content/drive/MyDrive/project_1/FaceRecog/DataSets/Okarin/gray/10.jpg\n",
            "/content/drive/MyDrive/project_1/FaceRecog/DataSets/Okarin/gray/11.jpg\n",
            "/content/drive/MyDrive/project_1/FaceRecog/DataSets/Okarin/gray/13.jpg\n",
            "/content/drive/MyDrive/project_1/FaceRecog/DataSets/Okarin/gray/12.jpg\n",
            "/content/drive/MyDrive/project_1/FaceRecog/DataSets/Okarin/gray/14.jpg\n",
            "/content/drive/MyDrive/project_1/FaceRecog/DataSets/Okarin/gray/15.jpg\n",
            "/content/drive/MyDrive/project_1/FaceRecog/DataSets/Okarin/gray/18.jpg\n",
            "/content/drive/MyDrive/project_1/FaceRecog/DataSets/Okarin/gray/16.jpg\n",
            "/content/drive/MyDrive/project_1/FaceRecog/DataSets/Okarin/gray/17.jpg\n",
            "/content/drive/MyDrive/project_1/FaceRecog/DataSets/Okarin/gray/19.jpg\n",
            "/content/drive/MyDrive/project_1/FaceRecog/DataSets/Okarin/gray/index.html\n",
            "/content/drive/MyDrive/project_1/FaceRecog/DataSets/Cris/gray/0.jpg\n",
            "/content/drive/MyDrive/project_1/FaceRecog/DataSets/Cris/gray/1.jpg\n",
            "/content/drive/MyDrive/project_1/FaceRecog/DataSets/Cris/gray/2.jpg\n",
            "/content/drive/MyDrive/project_1/FaceRecog/DataSets/Cris/gray/3.jpg\n",
            "/content/drive/MyDrive/project_1/FaceRecog/DataSets/Cris/gray/4.jpg\n",
            "/content/drive/MyDrive/project_1/FaceRecog/DataSets/Cris/gray/8.jpg\n",
            "/content/drive/MyDrive/project_1/FaceRecog/DataSets/Cris/gray/7.jpg\n",
            "/content/drive/MyDrive/project_1/FaceRecog/DataSets/Cris/gray/6.jpg\n",
            "/content/drive/MyDrive/project_1/FaceRecog/DataSets/Cris/gray/5.jpg\n",
            "/content/drive/MyDrive/project_1/FaceRecog/DataSets/Cris/gray/9.jpg\n",
            "/content/drive/MyDrive/project_1/FaceRecog/DataSets/Cris/gray/12.jpg\n",
            "/content/drive/MyDrive/project_1/FaceRecog/DataSets/Cris/gray/13.jpg\n",
            "/content/drive/MyDrive/project_1/FaceRecog/DataSets/Cris/gray/16.jpg\n",
            "/content/drive/MyDrive/project_1/FaceRecog/DataSets/Cris/gray/14.jpg\n",
            "/content/drive/MyDrive/project_1/FaceRecog/DataSets/Cris/gray/10.jpg\n",
            "/content/drive/MyDrive/project_1/FaceRecog/DataSets/Cris/gray/15.jpg\n",
            "/content/drive/MyDrive/project_1/FaceRecog/DataSets/Cris/gray/11.jpg\n",
            "/content/drive/MyDrive/project_1/FaceRecog/DataSets/Cris/gray/17.jpg\n",
            "/content/drive/MyDrive/project_1/FaceRecog/DataSets/Cris/gray/18.jpg\n",
            "/content/drive/MyDrive/project_1/FaceRecog/DataSets/Cris/gray/index.html\n",
            "/content/drive/MyDrive/project_1/FaceRecog/DataSets/Askeladd/gray/gray0.jpg\n",
            "/content/drive/MyDrive/project_1/FaceRecog/DataSets/Askeladd/gray/gray2.jpg\n",
            "/content/drive/MyDrive/project_1/FaceRecog/DataSets/Askeladd/gray/gray1.jpg\n",
            "/content/drive/MyDrive/project_1/FaceRecog/DataSets/Askeladd/gray/gray4.jpg\n",
            "/content/drive/MyDrive/project_1/FaceRecog/DataSets/Askeladd/gray/gray3.jpg\n",
            "/content/drive/MyDrive/project_1/FaceRecog/DataSets/Askeladd/gray/gray5.jpg\n",
            "/content/drive/MyDrive/project_1/FaceRecog/DataSets/Askeladd/gray/gray6.jpg\n",
            "/content/drive/MyDrive/project_1/FaceRecog/DataSets/Askeladd/gray/gray7.jpg\n",
            "/content/drive/MyDrive/project_1/FaceRecog/DataSets/Askeladd/gray/gray8.jpg\n",
            "/content/drive/MyDrive/project_1/FaceRecog/DataSets/Askeladd/gray/gray9.jpg\n",
            "/content/drive/MyDrive/project_1/FaceRecog/DataSets/Askeladd/gray/gray10.jpg\n",
            "/content/drive/MyDrive/project_1/FaceRecog/DataSets/Askeladd/gray/gray11.jpg\n",
            "/content/drive/MyDrive/project_1/FaceRecog/DataSets/Askeladd/gray/gray13.jpg\n",
            "/content/drive/MyDrive/project_1/FaceRecog/DataSets/Askeladd/gray/gray12.jpg\n",
            "/content/drive/MyDrive/project_1/FaceRecog/DataSets/Askeladd/gray/gray14.jpg\n",
            "/content/drive/MyDrive/project_1/FaceRecog/DataSets/Askeladd/gray/gray15.jpg\n",
            "/content/drive/MyDrive/project_1/FaceRecog/DataSets/Askeladd/gray/gray18.jpg\n",
            "/content/drive/MyDrive/project_1/FaceRecog/DataSets/Askeladd/gray/gray17.jpg\n",
            "/content/drive/MyDrive/project_1/FaceRecog/DataSets/Askeladd/gray/gray16.jpg\n",
            "/content/drive/MyDrive/project_1/FaceRecog/DataSets/Askeladd/gray/.ipynb_checkpoints\n",
            "/content/drive/MyDrive/project_1/FaceRecog/DataSets/Light Yagami/gray/0.jpg\n",
            "/content/drive/MyDrive/project_1/FaceRecog/DataSets/Light Yagami/gray/1.jpg\n",
            "/content/drive/MyDrive/project_1/FaceRecog/DataSets/Light Yagami/gray/2.jpg\n",
            "/content/drive/MyDrive/project_1/FaceRecog/DataSets/Light Yagami/gray/3.jpg\n",
            "/content/drive/MyDrive/project_1/FaceRecog/DataSets/Light Yagami/gray/4.jpg\n",
            "/content/drive/MyDrive/project_1/FaceRecog/DataSets/Light Yagami/gray/5.jpg\n",
            "/content/drive/MyDrive/project_1/FaceRecog/DataSets/Light Yagami/gray/7.jpg\n",
            "/content/drive/MyDrive/project_1/FaceRecog/DataSets/Light Yagami/gray/6.jpg\n",
            "/content/drive/MyDrive/project_1/FaceRecog/DataSets/Light Yagami/gray/8.jpg\n",
            "/content/drive/MyDrive/project_1/FaceRecog/DataSets/Light Yagami/gray/10.jpg\n",
            "/content/drive/MyDrive/project_1/FaceRecog/DataSets/Light Yagami/gray/9.jpg\n",
            "/content/drive/MyDrive/project_1/FaceRecog/DataSets/Light Yagami/gray/11.jpg\n",
            "/content/drive/MyDrive/project_1/FaceRecog/DataSets/Light Yagami/gray/12.jpg\n",
            "/content/drive/MyDrive/project_1/FaceRecog/DataSets/Light Yagami/gray/13.jpg\n",
            "/content/drive/MyDrive/project_1/FaceRecog/DataSets/Light Yagami/gray/14.jpg\n",
            "/content/drive/MyDrive/project_1/FaceRecog/DataSets/Light Yagami/gray/15.jpg\n",
            "/content/drive/MyDrive/project_1/FaceRecog/DataSets/Light Yagami/gray/16.jpg\n",
            "/content/drive/MyDrive/project_1/FaceRecog/DataSets/Light Yagami/gray/17.jpg\n",
            "/content/drive/MyDrive/project_1/FaceRecog/DataSets/Light Yagami/gray/18.jpg\n",
            "/content/drive/MyDrive/project_1/FaceRecog/DataSets/Light Yagami/gray/19.jpg\n",
            "/content/drive/MyDrive/project_1/FaceRecog/DataSets/Light Yagami/gray/20.jpg\n",
            "/content/drive/MyDrive/project_1/FaceRecog/DataSets/Light Yagami/gray/index.html\n",
            "/content/drive/MyDrive/project_1/FaceRecog/DataSets/Misa Amane/gray/0.jpg\n",
            "/content/drive/MyDrive/project_1/FaceRecog/DataSets/Misa Amane/gray/1.jpg\n",
            "/content/drive/MyDrive/project_1/FaceRecog/DataSets/Misa Amane/gray/2.jpg\n",
            "/content/drive/MyDrive/project_1/FaceRecog/DataSets/Misa Amane/gray/3.jpg\n",
            "/content/drive/MyDrive/project_1/FaceRecog/DataSets/Misa Amane/gray/4.jpg\n",
            "/content/drive/MyDrive/project_1/FaceRecog/DataSets/Misa Amane/gray/5.jpg\n",
            "/content/drive/MyDrive/project_1/FaceRecog/DataSets/Misa Amane/gray/7.jpg\n",
            "/content/drive/MyDrive/project_1/FaceRecog/DataSets/Misa Amane/gray/6.jpg\n",
            "/content/drive/MyDrive/project_1/FaceRecog/DataSets/Misa Amane/gray/8.jpg\n",
            "/content/drive/MyDrive/project_1/FaceRecog/DataSets/Misa Amane/gray/9.jpg\n",
            "/content/drive/MyDrive/project_1/FaceRecog/DataSets/Misa Amane/gray/10.jpg\n",
            "/content/drive/MyDrive/project_1/FaceRecog/DataSets/Misa Amane/gray/11.jpg\n",
            "/content/drive/MyDrive/project_1/FaceRecog/DataSets/Misa Amane/gray/13.jpg\n",
            "/content/drive/MyDrive/project_1/FaceRecog/DataSets/Misa Amane/gray/12.jpg\n",
            "/content/drive/MyDrive/project_1/FaceRecog/DataSets/Misa Amane/gray/14.jpg\n",
            "/content/drive/MyDrive/project_1/FaceRecog/DataSets/Misa Amane/gray/15.jpg\n",
            "/content/drive/MyDrive/project_1/FaceRecog/DataSets/Misa Amane/gray/index.html\n"
          ]
        },
        {
          "output_type": "execute_result",
          "data": {
            "text/plain": [
              "(245, 4096)"
            ]
          },
          "metadata": {},
          "execution_count": 32
        }
      ]
    },
    {
      "cell_type": "code",
      "source": [
        "\n",
        "Xtrain,Xtest,Ytrain,Ytest = train_test_split(data,labels,test_size=0.25,random_state=3)"
      ],
      "metadata": {
        "id": "f2zIRmb_5BFo"
      },
      "execution_count": 33,
      "outputs": []
    },
    {
      "cell_type": "code",
      "source": [
        "pca = PCA(n_components=12)\n",
        "labelsSet = set(labels)\n",
        "labels = np.array(labels)\n",
        "Xtrain = pca.fit_transform(Xtrain)\n",
        "Xtest = pca.transform(Xtest)"
      ],
      "metadata": {
        "id": "S242Bm6D5C5Z"
      },
      "execution_count": 34,
      "outputs": []
    },
    {
      "cell_type": "code",
      "source": [
        "knn = KNeighborsClassifier(n_neighbors=3)\n",
        "knn.fit(Xtrain,Ytrain)\n",
        "ypred = knn.predict(Xtest)\n",
        "accuracy_score(Ytest, ypred)"
      ],
      "metadata": {
        "colab": {
          "base_uri": "https://localhost:8080/"
        },
        "id": "OQ5A4drR5E8o",
        "outputId": "c894a1f1-a838-4e78-f365-10db47df4315"
      },
      "execution_count": 35,
      "outputs": [
        {
          "output_type": "execute_result",
          "data": {
            "text/plain": [
              "0.5161290322580645"
            ]
          },
          "metadata": {},
          "execution_count": 35
        }
      ]
    },
    {
      "cell_type": "code",
      "source": [
        "for i,d in enumerate(zip(Ytest,ypred)) :\n",
        "    print(f\"{i}    {d}\")"
      ],
      "metadata": {
        "colab": {
          "base_uri": "https://localhost:8080/"
        },
        "id": "8AHPzOHJ5GlW",
        "outputId": "be34b821-706d-431e-9bfa-5f48c28b2c17"
      },
      "execution_count": 36,
      "outputs": [
        {
          "output_type": "stream",
          "name": "stdout",
          "text": [
            "0    ('Loid', 'Loid')\n",
            "1    ('L', 'L')\n",
            "2    ('Ray', 'Cris')\n",
            "3    ('Loid', 'Loid')\n",
            "4    ('azula', 'Okarin')\n",
            "5    ('Ray', 'Ray')\n",
            "6    ('Ray', 'Ray')\n",
            "7    ('Cris', 'Cris')\n",
            "8    ('zuko', 'zuko')\n",
            "9    ('L', 'L')\n",
            "10    ('Ray', 'Ray')\n",
            "11    ('Near ', 'Askeladd')\n",
            "12    ('zuko', 'katara')\n",
            "13    ('Cris', 'Cris')\n",
            "14    ('Askeladd', 'Askeladd')\n",
            "15    ('katara', 'Askeladd')\n",
            "16    ('Loid', 'Loid')\n",
            "17    ('Okarin', 'Askeladd')\n",
            "18    ('Light Yagami', 'Ray')\n",
            "19    ('iroh', 'Askeladd')\n",
            "20    ('Cris', 'Cris')\n",
            "21    ('iroh', 'iroh')\n",
            "22    ('Light Yagami', 'Light Yagami')\n",
            "23    ('aang', 'Askeladd')\n",
            "24    ('Light Yagami', 'Cris')\n",
            "25    ('Cris', 'Cris')\n",
            "26    ('Ray', 'iroh')\n",
            "27    ('Loid', 'Loid')\n",
            "28    ('Ray', 'Ray')\n",
            "29    ('azula', 'Okarin')\n",
            "30    ('zuko', 'Okarin')\n",
            "31    ('Okarin', 'Loid')\n",
            "32    ('aang', 'iroh')\n",
            "33    ('Light Yagami', 'Near ')\n",
            "34    ('L', 'L')\n",
            "35    ('azula', 'azula')\n",
            "36    ('Askeladd', 'Askeladd')\n",
            "37    ('zuko', 'Light Yagami')\n",
            "38    ('Okarin', 'L')\n",
            "39    ('aang', 'iroh')\n",
            "40    ('Light Yagami', 'Light Yagami')\n",
            "41    ('Okarin', 'Okarin')\n",
            "42    ('Near ', 'Misa Amane')\n",
            "43    ('Near ', 'Loid')\n",
            "44    ('Askeladd', 'iroh')\n",
            "45    ('Light Yagami', 'Near ')\n",
            "46    ('Askeladd', 'Askeladd')\n",
            "47    ('Askeladd', 'iroh')\n",
            "48    ('azula', 'katara')\n",
            "49    ('Loid', 'Loid')\n",
            "50    ('aang', 'iroh')\n",
            "51    ('Askeladd', 'iroh')\n",
            "52    ('aang', 'aang')\n",
            "53    ('zuko', 'Cris')\n",
            "54    ('iroh', 'Loid')\n",
            "55    ('L', 'L')\n",
            "56    ('Askeladd', 'Askeladd')\n",
            "57    ('azula', 'azula')\n",
            "58    ('Okarin', 'Okarin')\n",
            "59    ('L', 'L')\n",
            "60    ('Light Yagami', 'Light Yagami')\n",
            "61    ('Loid', 'katara')\n"
          ]
        }
      ]
    },
    {
      "cell_type": "code",
      "source": [
        "img = pca.inverse_transform((Xtest[55])).reshape((64,64))\n",
        "plt.imshow(img, interpolation='nearest',cmap=\"gray\")\n",
        "plt.show()\n",
        "print(Ytest[55])\n",
        "plt.plot(pca.explained_variance_)"
      ],
      "metadata": {
        "colab": {
          "base_uri": "https://localhost:8080/",
          "height": 562
        },
        "id": "foWFu7bI5IFg",
        "outputId": "50637e3d-295f-4ea4-aab9-15629ef9f60b"
      },
      "execution_count": 37,
      "outputs": [
        {
          "output_type": "display_data",
          "data": {
            "text/plain": [
              "<Figure size 432x288 with 1 Axes>"
            ],
            "image/png": "[encoded data removed]"
          },
          "metadata": {
            "needs_background": "light"
          }
        },
        {
          "output_type": "stream",
          "name": "stdout",
          "text": [
            "L\n"
          ]
        },
        {
          "output_type": "execute_result",
          "data": {
            "text/plain": [
              "[<matplotlib.lines.Line2D at 0x7f098980e0a0>]"
            ]
          },
          "metadata": {},
          "execution_count": 37
        },
        {
          "output_type": "display_data",
          "data": {
            "text/plain": [
              "<Figure size 432x288 with 1 Axes>"
            ],
            "image/png": "[encoded data removed]"
          },
          "metadata": {
            "needs_background": "light"
          }
        }
      ]
    },
    {
      "cell_type": "code",
      "source": [
        "ypred = knn.predict(np.append(Xtrain,Xtest,axis=0))\n",
        "accuracy_score(np.append(Ytrain,Ytest), ypred)"
      ],
      "metadata": {
        "colab": {
          "base_uri": "https://localhost:8080/"
        },
        "id": "OFwFSs_e5J3h",
        "outputId": "ecd97218-9a97-42a7-bade-0ee8d19b49ec"
      },
      "execution_count": 38,
      "outputs": [
        {
          "output_type": "execute_result",
          "data": {
            "text/plain": [
              "0.746938775510204"
            ]
          },
          "metadata": {},
          "execution_count": 38
        }
      ]
    },
    {
      "cell_type": "code",
      "source": [
        "cm = confusion_matrix(np.append(Ytrain,Ytest), ypred,labels=list(labelsSet))\n",
        "fig, ax = plt.subplots(figsize=(12, 12))\n",
        "disp = ConfusionMatrixDisplay(confusion_matrix=cm,display_labels=list(labelsSet))\n",
        "disp.plot(ax=ax)\n",
        "plt.show()"
      ],
      "metadata": {
        "colab": {
          "base_uri": "https://localhost:8080/",
          "height": 693
        },
        "id": "LTwgEbbt5LZg",
        "outputId": "57089f0f-fc03-4b4f-9849-b7608846c88f"
      },
      "execution_count": 39,
      "outputs": [
        {
          "output_type": "display_data",
          "data": {
            "text/plain": [
              "<Figure size 864x864 with 2 Axes>"
            ],
            "image/png": "[encoded data removed]"
          },
          "metadata": {
            "needs_background": "light"
          }
        }
      ]
    }
  ],
  "metadata": {
    "kernelspec": {
      "display_name": "Python 3 (ipykernel)",
      "language": "python",
      "name": "python3"
    },
    "language_info": {
      "codemirror_mode": {
        "name": "ipython",
        "version": 3
      },
      "file_extension": ".py",
      "mimetype": "text/x-python",
      "name": "python",
      "nbconvert_exporter": "python",
      "pygments_lexer": "ipython3",
      "version": "3.10.8 (main, Nov  5 2022, 23:13:42) [GCC 12.2.0]"
    },
    "vscode": {
      "interpreter": {
        "hash": "e7370f93d1d0cde622a1f8e1c04877d8463912d04d973331ad4851f04de6915a"
      }
    },
    "colab": {
      "provenance": []
    }
  },
  "nbformat": 4,
  "nbformat_minor": 0
}